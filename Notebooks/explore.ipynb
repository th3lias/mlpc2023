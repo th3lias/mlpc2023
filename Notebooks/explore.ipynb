{
 "cells": [
  {
   "cell_type": "code",
   "execution_count": 98,
   "id": "c2fca8d6-773b-42ab-bee7-896209b50df9",
   "metadata": {},
   "outputs": [],
   "source": [
    "import numpy as np\n",
    "import pandas as pd\n",
    "import matplotlib.pyplot as plt\n",
    "import seaborn as sns\n",
    "import os\n",
    "import sys\n",
    "import warnings\n",
    "warnings.filterwarnings('ignore')\n",
    "%matplotlib inline"
   ]
  },
  {
   "cell_type": "code",
   "execution_count": 99,
   "id": "6ea331b5",
   "metadata": {},
   "outputs": [],
   "source": [
    "def load_sample(data_dir):\n",
    "    data = np.load(data_dir)\n",
    "    return pd.DataFrame(data)\n",
    "\n",
    "def load_all_samples(data_dir):\n",
    "    data = []\n",
    "    for file in os.listdir(data_dir):\n",
    "        if file.endswith(\".labels.npy\"):\n",
    "            continue\n",
    "        if file.endswith(\".npy\"):\n",
    "            data.append(load_sample(os.path.join(data_dir, file)))\n",
    "    return pd.concat(data, axis=0)\n",
    "\n",
    "def load_data(data_dir):\n",
    "    return load_all_samples(data_dir)"
   ]
  },
  {
   "cell_type": "code",
   "execution_count": 100,
   "outputs": [],
   "source": [
    "data = []\n",
    "for folder in os.listdir('../dataset'):\n",
    "    if os.path.isfile(os.path.join('../dataset', folder)):\n",
    "        continue\n",
    "    data.append(load_data(os.path.join('../dataset', folder)))\n",
    "master_data = np.stack(data, axis=0)"
   ],
   "metadata": {
    "collapsed": false
   }
  },
  {
   "cell_type": "code",
   "execution_count": 101,
   "outputs": [
    {
     "name": "stdout",
     "output_type": "stream",
     "text": [
      "(6, 20000, 548)\n"
     ]
    }
   ],
   "source": [
    "print(master_data.shape)"
   ],
   "metadata": {
    "collapsed": false
   }
  },
  {
   "cell_type": "code",
   "execution_count": 102,
   "outputs": [],
   "source": [
    "master_data_pd = master_data.reshape(master_data.shape[0]*master_data.shape[1], -1)\n",
    "master_data_pd = pd.DataFrame(master_data_pd)\n",
    "with open('../dataset/feature_names.txt', 'r') as f:\n",
    "    feature_names = f.read().splitlines()\n",
    "master_data_pd.columns = feature_names"
   ],
   "metadata": {
    "collapsed": false
   }
  },
  {
   "cell_type": "code",
   "execution_count": 103,
   "outputs": [
    {
     "data": {
      "text/plain": "   zcr_mean   zcr_std       yin_0        yin_1        yin_2        yin_3  \\\n0  0.166783  0.079440  490.957062   491.752991   488.983582   485.077576   \n1  0.241420  0.026630  467.413574   516.481689   515.562134   514.210266   \n2  0.264509  0.023550  511.845062   508.178223   509.490753   509.445099   \n3  0.295410  0.016382  514.254700   512.569824  4576.394043  4567.560547   \n4  0.292899  0.026179  462.359528  4722.730469  4718.769043  4696.359375   \n\n         yin_4        yin_5        yin_6        yin_7  ...  \\\n0   469.738678   513.687073   512.657349   245.042892  ...   \n1   509.392456   510.750336   511.419983   511.064209  ...   \n2   513.549133   512.355530   514.466064   515.264587  ...   \n3  4576.487793  4655.340332  4689.938477  4697.403809  ...   \n4  4698.638672  4731.375488  4714.809570  4737.364258  ...   \n\n   cln_contrast_mean_4  cln_contrast_mean_5  cln_contrast_mean_6  \\\n0            13.432678            13.885087            17.060001   \n1            11.027208            14.805115            17.158812   \n2            12.740061            13.215790            16.725847   \n3            11.951676            13.193249            16.734816   \n4            10.747338            12.740884            16.750946   \n\n   cln_contrast_std_0  cln_contrast_std_1  cln_contrast_std_2  \\\n0            6.169077            3.001384            3.211213   \n1            4.463205            3.956305            1.962520   \n2            1.774137            3.766160            2.463165   \n3            3.230220            3.042296            3.633888   \n4            3.083272            2.659685            3.981223   \n\n   cln_contrast_std_3  cln_contrast_std_4  cln_contrast_std_5  \\\n0            4.549636            3.261581            3.175519   \n1            2.206298            2.378360            1.921748   \n2            1.830873            3.058117            1.740199   \n3            2.285815            2.923266            1.529872   \n4            3.348599            2.550901            1.909587   \n\n   cln_contrast_std_6  \n0            1.371739  \n1            2.072176  \n2            1.977649  \n3            1.633861  \n4            1.636644  \n\n[5 rows x 548 columns]",
      "text/html": "<div>\n<style scoped>\n    .dataframe tbody tr th:only-of-type {\n        vertical-align: middle;\n    }\n\n    .dataframe tbody tr th {\n        vertical-align: top;\n    }\n\n    .dataframe thead th {\n        text-align: right;\n    }\n</style>\n<table border=\"1\" class=\"dataframe\">\n  <thead>\n    <tr style=\"text-align: right;\">\n      <th></th>\n      <th>zcr_mean</th>\n      <th>zcr_std</th>\n      <th>yin_0</th>\n      <th>yin_1</th>\n      <th>yin_2</th>\n      <th>yin_3</th>\n      <th>yin_4</th>\n      <th>yin_5</th>\n      <th>yin_6</th>\n      <th>yin_7</th>\n      <th>...</th>\n      <th>cln_contrast_mean_4</th>\n      <th>cln_contrast_mean_5</th>\n      <th>cln_contrast_mean_6</th>\n      <th>cln_contrast_std_0</th>\n      <th>cln_contrast_std_1</th>\n      <th>cln_contrast_std_2</th>\n      <th>cln_contrast_std_3</th>\n      <th>cln_contrast_std_4</th>\n      <th>cln_contrast_std_5</th>\n      <th>cln_contrast_std_6</th>\n    </tr>\n  </thead>\n  <tbody>\n    <tr>\n      <th>0</th>\n      <td>0.166783</td>\n      <td>0.079440</td>\n      <td>490.957062</td>\n      <td>491.752991</td>\n      <td>488.983582</td>\n      <td>485.077576</td>\n      <td>469.738678</td>\n      <td>513.687073</td>\n      <td>512.657349</td>\n      <td>245.042892</td>\n      <td>...</td>\n      <td>13.432678</td>\n      <td>13.885087</td>\n      <td>17.060001</td>\n      <td>6.169077</td>\n      <td>3.001384</td>\n      <td>3.211213</td>\n      <td>4.549636</td>\n      <td>3.261581</td>\n      <td>3.175519</td>\n      <td>1.371739</td>\n    </tr>\n    <tr>\n      <th>1</th>\n      <td>0.241420</td>\n      <td>0.026630</td>\n      <td>467.413574</td>\n      <td>516.481689</td>\n      <td>515.562134</td>\n      <td>514.210266</td>\n      <td>509.392456</td>\n      <td>510.750336</td>\n      <td>511.419983</td>\n      <td>511.064209</td>\n      <td>...</td>\n      <td>11.027208</td>\n      <td>14.805115</td>\n      <td>17.158812</td>\n      <td>4.463205</td>\n      <td>3.956305</td>\n      <td>1.962520</td>\n      <td>2.206298</td>\n      <td>2.378360</td>\n      <td>1.921748</td>\n      <td>2.072176</td>\n    </tr>\n    <tr>\n      <th>2</th>\n      <td>0.264509</td>\n      <td>0.023550</td>\n      <td>511.845062</td>\n      <td>508.178223</td>\n      <td>509.490753</td>\n      <td>509.445099</td>\n      <td>513.549133</td>\n      <td>512.355530</td>\n      <td>514.466064</td>\n      <td>515.264587</td>\n      <td>...</td>\n      <td>12.740061</td>\n      <td>13.215790</td>\n      <td>16.725847</td>\n      <td>1.774137</td>\n      <td>3.766160</td>\n      <td>2.463165</td>\n      <td>1.830873</td>\n      <td>3.058117</td>\n      <td>1.740199</td>\n      <td>1.977649</td>\n    </tr>\n    <tr>\n      <th>3</th>\n      <td>0.295410</td>\n      <td>0.016382</td>\n      <td>514.254700</td>\n      <td>512.569824</td>\n      <td>4576.394043</td>\n      <td>4567.560547</td>\n      <td>4576.487793</td>\n      <td>4655.340332</td>\n      <td>4689.938477</td>\n      <td>4697.403809</td>\n      <td>...</td>\n      <td>11.951676</td>\n      <td>13.193249</td>\n      <td>16.734816</td>\n      <td>3.230220</td>\n      <td>3.042296</td>\n      <td>3.633888</td>\n      <td>2.285815</td>\n      <td>2.923266</td>\n      <td>1.529872</td>\n      <td>1.633861</td>\n    </tr>\n    <tr>\n      <th>4</th>\n      <td>0.292899</td>\n      <td>0.026179</td>\n      <td>462.359528</td>\n      <td>4722.730469</td>\n      <td>4718.769043</td>\n      <td>4696.359375</td>\n      <td>4698.638672</td>\n      <td>4731.375488</td>\n      <td>4714.809570</td>\n      <td>4737.364258</td>\n      <td>...</td>\n      <td>10.747338</td>\n      <td>12.740884</td>\n      <td>16.750946</td>\n      <td>3.083272</td>\n      <td>2.659685</td>\n      <td>3.981223</td>\n      <td>3.348599</td>\n      <td>2.550901</td>\n      <td>1.909587</td>\n      <td>1.636644</td>\n    </tr>\n  </tbody>\n</table>\n<p>5 rows × 548 columns</p>\n</div>"
     },
     "execution_count": 103,
     "metadata": {},
     "output_type": "execute_result"
    }
   ],
   "source": [
    "master_data_pd.head()"
   ],
   "metadata": {
    "collapsed": false
   }
  },
  {
   "cell_type": "code",
   "execution_count": 104,
   "outputs": [
    {
     "data": {
      "text/plain": "            zcr_mean        zcr_std          yin_0          yin_1  \\\ncount  120000.000000  120000.000000  120000.000000  120000.000000   \nmean        0.130285       0.023294    1763.902222    1750.269897   \nstd         0.112350       0.025121    2760.121582    2738.184326   \nmin         0.000000       0.000000      99.773758      99.773758   \n25%         0.045619       0.008031     194.957733     193.848770   \n50%         0.097447       0.015430     511.840607     512.085052   \n75%         0.194824       0.028841    2174.313599    2157.410767   \nmax         0.794364       0.321450   11025.000000   11025.000000   \n\n               yin_2          yin_3          yin_4          yin_5  \\\ncount  120000.000000  120000.000000  120000.000000  120000.000000   \nmean     1740.552002    1744.570435    1740.652222    1738.122681   \nstd      2731.456543    2732.496338    2730.286133    2726.077148   \nmin        99.773758      99.773758      99.773758      99.773758   \n25%       192.016838     191.566219     191.436676     190.203506   \n50%       510.567902     511.650146     510.045486     510.735931   \n75%      2124.021240    2145.046265    2137.107971    2140.767761   \nmax     11025.000000   11025.000000   11025.000000   11025.000000   \n\n               yin_6          yin_7  ...  cln_contrast_mean_4  \\\ncount  120000.000000  120000.000000  ...        120000.000000   \nmean     1746.456055    1743.416260  ...            13.084869   \nstd      2734.907227    2735.542725  ...             2.496332   \nmin        99.773758      99.773758  ...             6.629853   \n25%       192.186684     192.137497  ...            11.812891   \n50%       510.970535     510.724991  ...            12.479323   \n75%      2152.302185    2135.778015  ...            13.420479   \nmax     11025.000000   11025.000000  ...            47.035965   \n\n       cln_contrast_mean_5  cln_contrast_mean_6  cln_contrast_std_0  \\\ncount        120000.000000        120000.000000       120000.000000   \nmean             14.375112            16.739674            3.176971   \nstd               2.843038             3.988505            1.211233   \nmin               6.629853             6.629853            0.000000   \n25%              12.581925            14.099560            2.339905   \n50%              13.399871            15.328071            2.984243   \n75%              15.246063            17.977098            3.786228   \nmax              48.849712            62.293606           19.133646   \n\n       cln_contrast_std_1  cln_contrast_std_2  cln_contrast_std_3  \\\ncount       120000.000000       120000.000000       120000.000000   \nmean             2.618193            2.780379            3.070741   \nstd              0.722041            0.782830            1.097991   \nmin              0.000000            0.000000            0.000000   \n25%              2.113249            2.240590            2.355032   \n50%              2.530173            2.678236            2.850663   \n75%              3.025200            3.200193            3.498945   \nmax             15.536793           14.771960           13.534113   \n\n       cln_contrast_std_4  cln_contrast_std_5  cln_contrast_std_6  \ncount       120000.000000       120000.000000       120000.000000  \nmean             2.875529            2.219403            1.737573  \nstd              0.876289            0.793816            1.202259  \nmin              0.000000            0.000000            0.000000  \n25%              2.284546            1.713805            1.028646  \n50%              2.740575            2.057766            1.333858  \n75%              3.301398            2.521881            2.039211  \nmax             14.318196           14.467334           22.148211  \n\n[8 rows x 548 columns]",
      "text/html": "<div>\n<style scoped>\n    .dataframe tbody tr th:only-of-type {\n        vertical-align: middle;\n    }\n\n    .dataframe tbody tr th {\n        vertical-align: top;\n    }\n\n    .dataframe thead th {\n        text-align: right;\n    }\n</style>\n<table border=\"1\" class=\"dataframe\">\n  <thead>\n    <tr style=\"text-align: right;\">\n      <th></th>\n      <th>zcr_mean</th>\n      <th>zcr_std</th>\n      <th>yin_0</th>\n      <th>yin_1</th>\n      <th>yin_2</th>\n      <th>yin_3</th>\n      <th>yin_4</th>\n      <th>yin_5</th>\n      <th>yin_6</th>\n      <th>yin_7</th>\n      <th>...</th>\n      <th>cln_contrast_mean_4</th>\n      <th>cln_contrast_mean_5</th>\n      <th>cln_contrast_mean_6</th>\n      <th>cln_contrast_std_0</th>\n      <th>cln_contrast_std_1</th>\n      <th>cln_contrast_std_2</th>\n      <th>cln_contrast_std_3</th>\n      <th>cln_contrast_std_4</th>\n      <th>cln_contrast_std_5</th>\n      <th>cln_contrast_std_6</th>\n    </tr>\n  </thead>\n  <tbody>\n    <tr>\n      <th>count</th>\n      <td>120000.000000</td>\n      <td>120000.000000</td>\n      <td>120000.000000</td>\n      <td>120000.000000</td>\n      <td>120000.000000</td>\n      <td>120000.000000</td>\n      <td>120000.000000</td>\n      <td>120000.000000</td>\n      <td>120000.000000</td>\n      <td>120000.000000</td>\n      <td>...</td>\n      <td>120000.000000</td>\n      <td>120000.000000</td>\n      <td>120000.000000</td>\n      <td>120000.000000</td>\n      <td>120000.000000</td>\n      <td>120000.000000</td>\n      <td>120000.000000</td>\n      <td>120000.000000</td>\n      <td>120000.000000</td>\n      <td>120000.000000</td>\n    </tr>\n    <tr>\n      <th>mean</th>\n      <td>0.130285</td>\n      <td>0.023294</td>\n      <td>1763.902222</td>\n      <td>1750.269897</td>\n      <td>1740.552002</td>\n      <td>1744.570435</td>\n      <td>1740.652222</td>\n      <td>1738.122681</td>\n      <td>1746.456055</td>\n      <td>1743.416260</td>\n      <td>...</td>\n      <td>13.084869</td>\n      <td>14.375112</td>\n      <td>16.739674</td>\n      <td>3.176971</td>\n      <td>2.618193</td>\n      <td>2.780379</td>\n      <td>3.070741</td>\n      <td>2.875529</td>\n      <td>2.219403</td>\n      <td>1.737573</td>\n    </tr>\n    <tr>\n      <th>std</th>\n      <td>0.112350</td>\n      <td>0.025121</td>\n      <td>2760.121582</td>\n      <td>2738.184326</td>\n      <td>2731.456543</td>\n      <td>2732.496338</td>\n      <td>2730.286133</td>\n      <td>2726.077148</td>\n      <td>2734.907227</td>\n      <td>2735.542725</td>\n      <td>...</td>\n      <td>2.496332</td>\n      <td>2.843038</td>\n      <td>3.988505</td>\n      <td>1.211233</td>\n      <td>0.722041</td>\n      <td>0.782830</td>\n      <td>1.097991</td>\n      <td>0.876289</td>\n      <td>0.793816</td>\n      <td>1.202259</td>\n    </tr>\n    <tr>\n      <th>min</th>\n      <td>0.000000</td>\n      <td>0.000000</td>\n      <td>99.773758</td>\n      <td>99.773758</td>\n      <td>99.773758</td>\n      <td>99.773758</td>\n      <td>99.773758</td>\n      <td>99.773758</td>\n      <td>99.773758</td>\n      <td>99.773758</td>\n      <td>...</td>\n      <td>6.629853</td>\n      <td>6.629853</td>\n      <td>6.629853</td>\n      <td>0.000000</td>\n      <td>0.000000</td>\n      <td>0.000000</td>\n      <td>0.000000</td>\n      <td>0.000000</td>\n      <td>0.000000</td>\n      <td>0.000000</td>\n    </tr>\n    <tr>\n      <th>25%</th>\n      <td>0.045619</td>\n      <td>0.008031</td>\n      <td>194.957733</td>\n      <td>193.848770</td>\n      <td>192.016838</td>\n      <td>191.566219</td>\n      <td>191.436676</td>\n      <td>190.203506</td>\n      <td>192.186684</td>\n      <td>192.137497</td>\n      <td>...</td>\n      <td>11.812891</td>\n      <td>12.581925</td>\n      <td>14.099560</td>\n      <td>2.339905</td>\n      <td>2.113249</td>\n      <td>2.240590</td>\n      <td>2.355032</td>\n      <td>2.284546</td>\n      <td>1.713805</td>\n      <td>1.028646</td>\n    </tr>\n    <tr>\n      <th>50%</th>\n      <td>0.097447</td>\n      <td>0.015430</td>\n      <td>511.840607</td>\n      <td>512.085052</td>\n      <td>510.567902</td>\n      <td>511.650146</td>\n      <td>510.045486</td>\n      <td>510.735931</td>\n      <td>510.970535</td>\n      <td>510.724991</td>\n      <td>...</td>\n      <td>12.479323</td>\n      <td>13.399871</td>\n      <td>15.328071</td>\n      <td>2.984243</td>\n      <td>2.530173</td>\n      <td>2.678236</td>\n      <td>2.850663</td>\n      <td>2.740575</td>\n      <td>2.057766</td>\n      <td>1.333858</td>\n    </tr>\n    <tr>\n      <th>75%</th>\n      <td>0.194824</td>\n      <td>0.028841</td>\n      <td>2174.313599</td>\n      <td>2157.410767</td>\n      <td>2124.021240</td>\n      <td>2145.046265</td>\n      <td>2137.107971</td>\n      <td>2140.767761</td>\n      <td>2152.302185</td>\n      <td>2135.778015</td>\n      <td>...</td>\n      <td>13.420479</td>\n      <td>15.246063</td>\n      <td>17.977098</td>\n      <td>3.786228</td>\n      <td>3.025200</td>\n      <td>3.200193</td>\n      <td>3.498945</td>\n      <td>3.301398</td>\n      <td>2.521881</td>\n      <td>2.039211</td>\n    </tr>\n    <tr>\n      <th>max</th>\n      <td>0.794364</td>\n      <td>0.321450</td>\n      <td>11025.000000</td>\n      <td>11025.000000</td>\n      <td>11025.000000</td>\n      <td>11025.000000</td>\n      <td>11025.000000</td>\n      <td>11025.000000</td>\n      <td>11025.000000</td>\n      <td>11025.000000</td>\n      <td>...</td>\n      <td>47.035965</td>\n      <td>48.849712</td>\n      <td>62.293606</td>\n      <td>19.133646</td>\n      <td>15.536793</td>\n      <td>14.771960</td>\n      <td>13.534113</td>\n      <td>14.318196</td>\n      <td>14.467334</td>\n      <td>22.148211</td>\n    </tr>\n  </tbody>\n</table>\n<p>8 rows × 548 columns</p>\n</div>"
     },
     "execution_count": 104,
     "metadata": {},
     "output_type": "execute_result"
    }
   ],
   "source": [
    "master_data_pd.describe()"
   ],
   "metadata": {
    "collapsed": false
   }
  },
  {
   "cell_type": "code",
   "execution_count": 105,
   "outputs": [
    {
     "name": "stdout",
     "output_type": "stream",
     "text": [
      "<class 'pandas.core.frame.DataFrame'>\n",
      "RangeIndex: 120000 entries, 0 to 119999\n",
      "Columns: 548 entries, zcr_mean to cln_contrast_std_6\n",
      "dtypes: float32(548)\n",
      "memory usage: 250.9 MB\n"
     ]
    }
   ],
   "source": [
    "master_data_pd.info()"
   ],
   "metadata": {
    "collapsed": false
   }
  },
  {
   "cell_type": "code",
   "execution_count": 106,
   "outputs": [
    {
     "name": "stdout",
     "output_type": "stream",
     "text": [
      "Null check: False\n"
     ]
    }
   ],
   "source": [
    "print(f'Null check: {master_data_pd.isnull().values.any()}')\n"
   ],
   "metadata": {
    "collapsed": false
   }
  }
 ],
 "metadata": {
  "kernelspec": {
   "display_name": "Python 3 (ipykernel)",
   "language": "python",
   "name": "python3"
  },
  "language_info": {
   "codemirror_mode": {
    "name": "ipython",
    "version": 3
   },
   "file_extension": ".py",
   "mimetype": "text/x-python",
   "name": "python",
   "nbconvert_exporter": "python",
   "pygments_lexer": "ipython3",
   "version": "3.9.7"
  }
 },
 "nbformat": 4,
 "nbformat_minor": 5
}
