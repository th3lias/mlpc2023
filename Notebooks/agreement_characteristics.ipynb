{
 "cells": [
  {
   "cell_type": "code",
   "execution_count": 1,
   "metadata": {
    "collapsed": false,
    "jupyter": {
     "outputs_hidden": false
    }
   },
   "outputs": [],
   "source": [
    "import numpy as np\n",
    "import os\n",
    "import pandas as pd\n",
    "import matplotlib.pyplot as plt"
   ]
  },
  {
   "cell_type": "code",
   "execution_count": 2,
   "metadata": {
    "collapsed": false,
    "jupyter": {
     "outputs_hidden": false
    }
   },
   "outputs": [
    {
     "name": "stdout",
     "output_type": "stream",
     "text": [
      "['other', 'comcuc', 'cowpig1', 'eucdov', 'eueowl1', 'grswoo', 'tawowl1']\n"
     ]
    }
   ],
   "source": [
    "def load_column_names():\n",
    "    with open('trainset_python\\\\python\\\\class_names.txt') as f:\n",
    "        column_names = [line.strip().split(': ')[1] for line in f]\n",
    "    return column_names\n",
    "\n",
    "column_names = load_column_names()\n",
    "print(column_names)"
   ]
  },
  {
   "cell_type": "code",
   "execution_count": 20,
   "metadata": {
    "collapsed": false,
    "jupyter": {
     "outputs_hidden": false
    }
   },
   "outputs": [],
   "source": [
    "def load_dataset():\n",
    "    features = np.zeros((0, 100, 548))\n",
    "    labels = np.zeros((0, 100))\n",
    "    \n",
    "    for subdir, dirs, files in os.walk(\"trainset_python\\\\python\"):\n",
    "        for file in files:\n",
    "            if file.endswith('labels.npy'):\n",
    "                file_path = os.path.join(subdir, file)\n",
    "                labels = np.append(labels, np.load(file_path)[:, 0].reshape(1, 100), axis=0)\n",
    "                \n",
    "            if not file.endswith('labels.npy') and file.endswith('.npy'):\n",
    "                file_path = os.path.join(subdir, file)\n",
    "                samples = np.load(file_path)\n",
    "                samples = samples.reshape(1, samples.shape[0], samples.shape[1])\n",
    "                features = np.append(features, samples, axis=0)\n",
    "    \n",
    "    labels = np.round(labels, decimals=0)\n",
    "    \n",
    "    return features, labels"
   ]
  },
  {
   "cell_type": "code",
   "execution_count": 22,
   "metadata": {
    "collapsed": false,
    "jupyter": {
     "outputs_hidden": false
    }
   },
   "outputs": [
    {
     "name": "stdout",
     "output_type": "stream",
     "text": [
      "(1200, 100) (1200, 100, 548)\n"
     ]
    }
   ],
   "source": [
    "dataset, labels = load_dataset()\n",
    "print(labels.shape, dataset.shape)"
   ]
  },
  {
   "cell_type": "code",
   "execution_count": 75,
   "metadata": {
    "collapsed": false,
    "jupyter": {
     "outputs_hidden": false
    }
   },
   "outputs": [],
   "source": [
    "unique, counts = np.unique(labels, return_counts=True)\n",
    "sum_counts = np.sum(counts)\n",
    "percentages = counts / sum_counts * 100\n",
    "\n",
    "sum_counts_without_other = np.sum(counts[1:])\n",
    "percentages_without_other = counts[1:] / sum_counts_without_other * 100\n",
    "\n",
    "df_counts = pd.DataFrame(data={\"Counts\": counts, \"Percentages\": percentages})\n",
    "df_counts = df_counts.rename(index=dict(zip(df_counts.index, column_names)))\n",
    "\n",
    "df_counts_without_other = pd.DataFrame(data={\"Counts\": counts[1:], \"Percentages\": percentages_without_other})\n",
    "df_counts_without_other = df_counts_without_other.rename(index=dict(zip(df_counts_without_other.index, column_names[1:])))"
   ]
  },
  {
   "cell_type": "code",
   "execution_count": 76,
   "metadata": {},
   "outputs": [
    {
     "data": {
      "text/html": [
       "<div>\n",
       "<style scoped>\n",
       "    .dataframe tbody tr th:only-of-type {\n",
       "        vertical-align: middle;\n",
       "    }\n",
       "\n",
       "    .dataframe tbody tr th {\n",
       "        vertical-align: top;\n",
       "    }\n",
       "\n",
       "    .dataframe thead th {\n",
       "        text-align: right;\n",
       "    }\n",
       "</style>\n",
       "<table border=\"1\" class=\"dataframe\">\n",
       "  <thead>\n",
       "    <tr style=\"text-align: right;\">\n",
       "      <th></th>\n",
       "      <th>Counts</th>\n",
       "      <th>Percentages</th>\n",
       "    </tr>\n",
       "  </thead>\n",
       "  <tbody>\n",
       "    <tr>\n",
       "      <th>other</th>\n",
       "      <td>85358</td>\n",
       "      <td>71.131667</td>\n",
       "    </tr>\n",
       "    <tr>\n",
       "      <th>comcuc</th>\n",
       "      <td>5833</td>\n",
       "      <td>4.860833</td>\n",
       "    </tr>\n",
       "    <tr>\n",
       "      <th>cowpig1</th>\n",
       "      <td>8954</td>\n",
       "      <td>7.461667</td>\n",
       "    </tr>\n",
       "    <tr>\n",
       "      <th>eucdov</th>\n",
       "      <td>8198</td>\n",
       "      <td>6.831667</td>\n",
       "    </tr>\n",
       "    <tr>\n",
       "      <th>eueowl1</th>\n",
       "      <td>2324</td>\n",
       "      <td>1.936667</td>\n",
       "    </tr>\n",
       "    <tr>\n",
       "      <th>grswoo</th>\n",
       "      <td>5111</td>\n",
       "      <td>4.259167</td>\n",
       "    </tr>\n",
       "    <tr>\n",
       "      <th>tawowl1</th>\n",
       "      <td>4222</td>\n",
       "      <td>3.518333</td>\n",
       "    </tr>\n",
       "  </tbody>\n",
       "</table>\n",
       "</div>"
      ],
      "text/plain": [
       "         Counts  Percentages\n",
       "other     85358    71.131667\n",
       "comcuc     5833     4.860833\n",
       "cowpig1    8954     7.461667\n",
       "eucdov     8198     6.831667\n",
       "eueowl1    2324     1.936667\n",
       "grswoo     5111     4.259167\n",
       "tawowl1    4222     3.518333"
      ]
     },
     "execution_count": 76,
     "metadata": {},
     "output_type": "execute_result"
    }
   ],
   "source": [
    "df_counts"
   ]
  },
  {
   "cell_type": "code",
   "execution_count": 77,
   "metadata": {},
   "outputs": [
    {
     "data": {
      "text/html": [
       "<div>\n",
       "<style scoped>\n",
       "    .dataframe tbody tr th:only-of-type {\n",
       "        vertical-align: middle;\n",
       "    }\n",
       "\n",
       "    .dataframe tbody tr th {\n",
       "        vertical-align: top;\n",
       "    }\n",
       "\n",
       "    .dataframe thead th {\n",
       "        text-align: right;\n",
       "    }\n",
       "</style>\n",
       "<table border=\"1\" class=\"dataframe\">\n",
       "  <thead>\n",
       "    <tr style=\"text-align: right;\">\n",
       "      <th></th>\n",
       "      <th>Counts</th>\n",
       "      <th>Percentages</th>\n",
       "    </tr>\n",
       "  </thead>\n",
       "  <tbody>\n",
       "    <tr>\n",
       "      <th>comcuc</th>\n",
       "      <td>5833</td>\n",
       "      <td>16.837942</td>\n",
       "    </tr>\n",
       "    <tr>\n",
       "      <th>cowpig1</th>\n",
       "      <td>8954</td>\n",
       "      <td>25.847237</td>\n",
       "    </tr>\n",
       "    <tr>\n",
       "      <th>eucdov</th>\n",
       "      <td>8198</td>\n",
       "      <td>23.664915</td>\n",
       "    </tr>\n",
       "    <tr>\n",
       "      <th>eueowl1</th>\n",
       "      <td>2324</td>\n",
       "      <td>6.708620</td>\n",
       "    </tr>\n",
       "    <tr>\n",
       "      <th>grswoo</th>\n",
       "      <td>5111</td>\n",
       "      <td>14.753767</td>\n",
       "    </tr>\n",
       "    <tr>\n",
       "      <th>tawowl1</th>\n",
       "      <td>4222</td>\n",
       "      <td>12.187518</td>\n",
       "    </tr>\n",
       "  </tbody>\n",
       "</table>\n",
       "</div>"
      ],
      "text/plain": [
       "         Counts  Percentages\n",
       "comcuc     5833    16.837942\n",
       "cowpig1    8954    25.847237\n",
       "eucdov     8198    23.664915\n",
       "eueowl1    2324     6.708620\n",
       "grswoo     5111    14.753767\n",
       "tawowl1    4222    12.187518"
      ]
     },
     "execution_count": 77,
     "metadata": {},
     "output_type": "execute_result"
    }
   ],
   "source": [
    "df_counts_without_other"
   ]
  },
  {
   "cell_type": "code",
   "execution_count": 24,
   "metadata": {},
   "outputs": [
    {
     "name": "stdout",
     "output_type": "stream",
     "text": [
      "[0. 1. 2. 3. 4. 5. 6.]\n"
     ]
    }
   ],
   "source": [
    "print(unique)"
   ]
  },
  {
   "cell_type": "code",
   "execution_count": 96,
   "metadata": {},
   "outputs": [
    {
     "name": "stdout",
     "output_type": "stream",
     "text": [
      "19.138617\n"
     ]
    }
   ],
   "source": [
    "print(25.847237 - 6.708620)"
   ]
  },
  {
   "cell_type": "code",
   "execution_count": 71,
   "metadata": {
    "collapsed": false,
    "jupyter": {
     "outputs_hidden": false
    }
   },
   "outputs": [
    {
     "data": {
      "image/png": "[encoded data removed]",
      "text/plain": [
       "<Figure size 504x504 with 1 Axes>"
      ]
     },
     "metadata": {
      "needs_background": "light"
     },
     "output_type": "display_data"
    }
   ],
   "source": [
    "plt.figure(figsize=(7,7))\n",
    "plt.title('Species Percentages')\n",
    "plt.bar(column_names, df_counts['Percentages'], label='Percentages', color=(1, 0, 0))\n",
    "plt.xlabel('Species')\n",
    "plt.ylabel('Percentages')\n",
    "plt.grid(axis='y')\n",
    "plt.show()"
   ]
  },
  {
   "cell_type": "code",
   "execution_count": 95,
   "metadata": {},
   "outputs": [
    {
     "data": {
      "image/png": "[encoded data removed]",
      "text/plain": [
       "<Figure size 504x504 with 1 Axes>"
      ]
     },
     "metadata": {
      "needs_background": "light"
     },
     "output_type": "display_data"
    }
   ],
   "source": [
    "plt.figure(figsize=(7,7))\n",
    "plt.title('Species Percentages (positive labels only)')\n",
    "plt.bar(column_names[1:], df_counts_without_other['Percentages'], label='Percentages', color=(1, 0, 0))\n",
    "plt.xlabel('Species')\n",
    "plt.ylabel('Percentages')\n",
    "plt.grid(axis='y')\n",
    "plt.show()"
   ]
  },
  {
   "cell_type": "code",
   "execution_count": 84,
   "metadata": {},
   "outputs": [
    {
     "name": "stdout",
     "output_type": "stream",
     "text": [
      "{'comcuc': 92.64454761904761, 'cowpig1': 91.92009523809521, 'eucdov': 91.83809523809515, 'eueowl1': 96.34680952380953, 'grswoo': 89.3409047619048, 'tawowl1': 92.90773809523806}\n"
     ]
    }
   ],
   "source": [
    "def get_annotator_agreement():\n",
    "    annotator_agreement = dict()\n",
    "    \n",
    "    for directory in next(os.walk(\"trainset_python//python\"))[1]:\n",
    "        annotator_agreement[directory] = 0\n",
    "        file_count = 0\n",
    "\n",
    "        for file in next(os.walk(\"trainset_python//python//\" + directory))[2]:\n",
    "            if 'labels' in file:\n",
    "                file_count += 1\n",
    "                labels = np.load(\"trainset_python//python//\" + directory + '//' + file)\n",
    "\n",
    "                num_annotators = labels.shape[1] - 1\n",
    "                annotator_agreement_file = 0\n",
    "                for i in range(labels.shape[0]):\n",
    "                    annotator_agreement_file += np.count_nonzero(labels[i][1:] == labels[i][0]) / num_annotators\n",
    "                \n",
    "                annotator_agreement[directory] += annotator_agreement_file / labels.shape[0]\n",
    "\n",
    "        annotator_agreement[directory] = annotator_agreement[directory] / file_count * 100\n",
    "    \n",
    "    return annotator_agreement\n",
    "\n",
    "annotator_agreement = get_annotator_agreement()\n",
    "print(annotator_agreement)"
   ]
  },
  {
   "cell_type": "code",
   "execution_count": 85,
   "metadata": {},
   "outputs": [
    {
     "data": {
      "image/png": "[encoded data removed]",
      "text/plain": [
       "<Figure size 504x504 with 1 Axes>"
      ]
     },
     "metadata": {
      "needs_background": "light"
     },
     "output_type": "display_data"
    }
   ],
   "source": [
    "plt.figure(figsize=(7,7))\n",
    "plt.title('Annotator Agreement')\n",
    "plt.bar(annotator_agreement.keys(), annotator_agreement.values(), color='b')\n",
    "plt.xlabel('Species')\n",
    "plt.ylabel('Percentages')\n",
    "plt.grid(axis='y')\n",
    "plt.show()"
   ]
  },
  {
   "cell_type": "code",
   "execution_count": 92,
   "metadata": {},
   "outputs": [
    {
     "name": "stdout",
     "output_type": "stream",
     "text": [
      "{'comcuc': 88.67057807893659, 'cowpig1': 84.25188635794514, 'eucdov': 86.28315064175202, 'eueowl1': 85.55182866759776, 'grswoo': 83.14907848173085, 'tawowl1': 83.27750461741529}\n"
     ]
    }
   ],
   "source": [
    "def get_annotator_agreement_only_positive_labels():\n",
    "    annotator_agreement = dict()\n",
    "    \n",
    "    for directory in next(os.walk(\"trainset_python//python\"))[1]:\n",
    "        annotator_agreement[directory] = 0\n",
    "        file_count = 0\n",
    "\n",
    "        for file in next(os.walk(\"trainset_python//python//\" + directory))[2]:\n",
    "            if 'labels' in file:\n",
    "                file_count += 1\n",
    "                labels = np.load(\"trainset_python//python//\" + directory + '//' + file)\n",
    "\n",
    "                num_annotators = labels.shape[1] - 1\n",
    "                annotator_agreement_file = 0\n",
    "                num_labels = 0\n",
    "                for i in range(labels.shape[0]):\n",
    "                    if labels[i, 0] != 0:\n",
    "                        num_labels += 1\n",
    "                        annotator_agreement_file += np.count_nonzero(labels[i][1:] == labels[i][0]) / num_annotators\n",
    "                \n",
    "                if num_labels != 0:\n",
    "                    annotator_agreement[directory] += annotator_agreement_file / num_labels\n",
    "\n",
    "        annotator_agreement[directory] = annotator_agreement[directory] / file_count * 100\n",
    "    \n",
    "    return annotator_agreement\n",
    "\n",
    "annotator_agreement_only_positive_labels = get_annotator_agreement_only_positive_labels()\n",
    "print(annotator_agreement_only_positive_labels)"
   ]
  },
  {
   "cell_type": "code",
   "execution_count": 94,
   "metadata": {},
   "outputs": [
    {
     "data": {
      "image/png": "[encoded data removed]",
      "text/plain": [
       "<Figure size 504x504 with 1 Axes>"
      ]
     },
     "metadata": {
      "needs_background": "light"
     },
     "output_type": "display_data"
    }
   ],
   "source": [
    "plt.figure(figsize=(7,7))\n",
    "plt.title('Annotator Agreement (positive labels only)')\n",
    "plt.bar(annotator_agreement_only_positive_labels.keys(), annotator_agreement_only_positive_labels.values(), color='b')\n",
    "plt.xlabel('Species')\n",
    "plt.ylabel('Percentages')\n",
    "plt.grid(axis='y')\n",
    "plt.show()"
   ]
  },
  {
   "cell_type": "code",
   "execution_count": 67,
   "metadata": {},
   "outputs": [],
   "source": [
    "def convert_time_steps_to_ms(num_steps):\n",
    "    return num_steps * 0.2"
   ]
  },
  {
   "cell_type": "code",
   "execution_count": 99,
   "metadata": {},
   "outputs": [],
   "source": [
    "def get_call_durations():\n",
    "    durations = dict()\n",
    "    for column in column_names:\n",
    "        if column != column_names[0]:\n",
    "            durations[column] = []\n",
    "    \n",
    "    durations[\"all\"] = []\n",
    "    \n",
    "    for i in range(labels.shape[0]):\n",
    "        consecutive_steps = 1\n",
    "        current_label = labels[i, 0]\n",
    "        \n",
    "        for j in range(1, labels.shape[1]):\n",
    "            if labels[i, j] != current_label:\n",
    "                column = column_names[int(current_label)]\n",
    "                duration = convert_time_steps_to_ms(consecutive_steps)\n",
    "                if column != column_names[0]:\n",
    "                    durations[column].append(duration)\n",
    "                    durations[\"all\"].append(duration)\n",
    "                consecutive_steps = 0\n",
    "                current_label = labels[i, j]\n",
    "                \n",
    "            consecutive_steps += 1\n",
    "    \n",
    "    for column in durations.keys():\n",
    "        durations[column] = np.array(durations[column])\n",
    "        \n",
    "    return durations\n",
    "            \n",
    "            \n",
    "call_durations = get_call_durations()"
   ]
  },
  {
   "cell_type": "code",
   "execution_count": 125,
   "metadata": {},
   "outputs": [
    {
     "data": {
      "text/html": [
       "<div>\n",
       "<style scoped>\n",
       "    .dataframe tbody tr th:only-of-type {\n",
       "        vertical-align: middle;\n",
       "    }\n",
       "\n",
       "    .dataframe tbody tr th {\n",
       "        vertical-align: top;\n",
       "    }\n",
       "\n",
       "    .dataframe thead th {\n",
       "        text-align: right;\n",
       "    }\n",
       "</style>\n",
       "<table border=\"1\" class=\"dataframe\">\n",
       "  <thead>\n",
       "    <tr style=\"text-align: right;\">\n",
       "      <th></th>\n",
       "      <th>Mean</th>\n",
       "      <th>Median</th>\n",
       "      <th>Q1</th>\n",
       "      <th>Q3</th>\n",
       "      <th>Interquartile Range</th>\n",
       "      <th>Min</th>\n",
       "      <th>Max</th>\n",
       "      <th>Std</th>\n",
       "    </tr>\n",
       "  </thead>\n",
       "  <tbody>\n",
       "    <tr>\n",
       "      <th>comcuc</th>\n",
       "      <td>0.696509</td>\n",
       "      <td>0.6</td>\n",
       "      <td>0.6</td>\n",
       "      <td>0.8</td>\n",
       "      <td>0.2</td>\n",
       "      <td>0.2</td>\n",
       "      <td>2.6</td>\n",
       "      <td>0.202601</td>\n",
       "    </tr>\n",
       "    <tr>\n",
       "      <th>cowpig1</th>\n",
       "      <td>1.541209</td>\n",
       "      <td>1.0</td>\n",
       "      <td>0.6</td>\n",
       "      <td>1.6</td>\n",
       "      <td>1.0</td>\n",
       "      <td>0.2</td>\n",
       "      <td>18.2</td>\n",
       "      <td>2.002353</td>\n",
       "    </tr>\n",
       "    <tr>\n",
       "      <th>eucdov</th>\n",
       "      <td>1.091828</td>\n",
       "      <td>1.2</td>\n",
       "      <td>0.8</td>\n",
       "      <td>1.4</td>\n",
       "      <td>0.6</td>\n",
       "      <td>0.2</td>\n",
       "      <td>11.2</td>\n",
       "      <td>0.738880</td>\n",
       "    </tr>\n",
       "    <tr>\n",
       "      <th>eueowl1</th>\n",
       "      <td>0.693740</td>\n",
       "      <td>0.6</td>\n",
       "      <td>0.4</td>\n",
       "      <td>0.8</td>\n",
       "      <td>0.4</td>\n",
       "      <td>0.2</td>\n",
       "      <td>6.6</td>\n",
       "      <td>0.541477</td>\n",
       "    </tr>\n",
       "    <tr>\n",
       "      <th>grswoo</th>\n",
       "      <td>0.469332</td>\n",
       "      <td>0.4</td>\n",
       "      <td>0.2</td>\n",
       "      <td>0.4</td>\n",
       "      <td>0.2</td>\n",
       "      <td>0.2</td>\n",
       "      <td>17.6</td>\n",
       "      <td>0.752063</td>\n",
       "    </tr>\n",
       "    <tr>\n",
       "      <th>tawowl1</th>\n",
       "      <td>0.801957</td>\n",
       "      <td>0.6</td>\n",
       "      <td>0.4</td>\n",
       "      <td>1.0</td>\n",
       "      <td>0.6</td>\n",
       "      <td>0.2</td>\n",
       "      <td>5.4</td>\n",
       "      <td>0.582655</td>\n",
       "    </tr>\n",
       "    <tr>\n",
       "      <th>all</th>\n",
       "      <td>0.849353</td>\n",
       "      <td>0.6</td>\n",
       "      <td>0.4</td>\n",
       "      <td>1.0</td>\n",
       "      <td>0.6</td>\n",
       "      <td>0.2</td>\n",
       "      <td>18.2</td>\n",
       "      <td>1.000115</td>\n",
       "    </tr>\n",
       "  </tbody>\n",
       "</table>\n",
       "</div>"
      ],
      "text/plain": [
       "             Mean  Median   Q1   Q3  Interquartile Range  Min   Max       Std\n",
       "comcuc   0.696509     0.6  0.6  0.8                  0.2  0.2   2.6  0.202601\n",
       "cowpig1  1.541209     1.0  0.6  1.6                  1.0  0.2  18.2  2.002353\n",
       "eucdov   1.091828     1.2  0.8  1.4                  0.6  0.2  11.2  0.738880\n",
       "eueowl1  0.693740     0.6  0.4  0.8                  0.4  0.2   6.6  0.541477\n",
       "grswoo   0.469332     0.4  0.2  0.4                  0.2  0.2  17.6  0.752063\n",
       "tawowl1  0.801957     0.6  0.4  1.0                  0.6  0.2   5.4  0.582655\n",
       "all      0.849353     0.6  0.4  1.0                  0.6  0.2  18.2  1.000115"
      ]
     },
     "execution_count": 125,
     "metadata": {},
     "output_type": "execute_result"
    }
   ],
   "source": [
    "means = []\n",
    "medians = []\n",
    "q3s = []\n",
    "q1s = []\n",
    "interquartile_ranges = []\n",
    "mins = []\n",
    "maxs = []\n",
    "stds = []\n",
    "\n",
    "for column in call_durations.keys():\n",
    "    means.append(np.mean(call_durations[column]))\n",
    "    medians.append(np.median(call_durations[column]))\n",
    "    q1 = np.percentile(call_durations[column], 25)\n",
    "    q1s.append(q1)\n",
    "    q3 = np.percentile(call_durations[column], 75)\n",
    "    q3s.append(q3)\n",
    "    interquartile_ranges.append(q3 - q1)\n",
    "    maxs.append(np.max(call_durations[column]))\n",
    "    mins.append(np.min(call_durations[column]))\n",
    "    stds.append(np.std(call_durations[column]))\n",
    "    \n",
    "df_durations = pd.DataFrame(data={\"Mean\": means, \"Median\": medians, \"Q1\": q1s, \"Q3\": q3s, \"Interquartile Range\": interquartile_ranges, \"Min\": mins,\n",
    "                                 \"Max\": maxs, \"Std\": stds})\n",
    "df_durations = df_durations.rename(index=dict(zip(df_durations.index, call_durations.keys())))\n",
    "df_durations"
   ]
  },
  {
   "cell_type": "code",
   "execution_count": 126,
   "metadata": {},
   "outputs": [
    {
     "name": "stderr",
     "output_type": "stream",
     "text": [
      "C:\\Users\\thoma\\AppData\\Local\\Temp/ipykernel_17304/2570634029.py:2: UserWarning: FixedFormatter should only be used together with FixedLocator\n",
      "  ax.set_xticklabels(call_durations.keys(), rotation=45, fontsize=20)\n"
     ]
    },
    {
     "data": {
      "image/png": "[encoded data removed]",
      "text/plain": [
       "<Figure size 720x504 with 1 Axes>"
      ]
     },
     "metadata": {
      "needs_background": "light"
     },
     "output_type": "display_data"
    }
   ],
   "source": [
    "fig, ax = plt.subplots(1, 1, figsize=(10, 7))\n",
    "ax.set_xticklabels(call_durations.keys(), rotation=45, fontsize=20)\n",
    "ax.set_title(\"Call durations\", fontsize=20)\n",
    "ax.boxplot(call_durations.values(), call_durations.keys())\n",
    "ax.grid(axis='y')\n",
    "plt.show()"
   ]
  },
  {
   "cell_type": "code",
   "execution_count": null,
   "metadata": {},
   "outputs": [],
   "source": []
  }
 ],
 "metadata": {
  "kernelspec": {
   "display_name": "Python 3 (ipykernel)",
   "language": "python",
   "name": "python3"
  },
  "language_info": {
   "codemirror_mode": {
    "name": "ipython",
    "version": 3
   },
   "file_extension": ".py",
   "mimetype": "text/x-python",
   "name": "python",
   "nbconvert_exporter": "python",
   "pygments_lexer": "ipython3",
   "version": "3.9.8"
  }
 },
 "nbformat": 4,
 "nbformat_minor": 4
}
